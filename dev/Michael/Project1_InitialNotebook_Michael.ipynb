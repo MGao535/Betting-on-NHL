{
 "cells": [
  {
   "cell_type": "markdown",
   "metadata": {},
   "source": [
    "Notebook to combine and bin data for the NHL from 2014-2019"
   ]
  },
  {
   "cell_type": "code",
   "execution_count": 2,
   "metadata": {},
   "outputs": [],
   "source": [
    "# Dependencies and Setup\n",
    "import matplotlib.pyplot as plt\n",
    "import pandas as pd\n",
    "import scipy.stats as st\n",
    "\n",
    "# Study data files\n",
    "data1 = \"nhl odds 2014-15.csv\"\n",
    "data2 = \"nhl odds 2015-16.csv\"\n",
    "data3 = \"nhl odds 2016-17.csv\"\n",
    "data4 = \"nhl odds 2017-18.csv\"\n",
    "data5 = \"nhl odds 2018-19.csv\"\n",
    "\n",
    "# Read the mouse data and the study results\n",
    "data1 = pd.read_csv(data1)\n",
    "data2 = pd.read_csv(data2)\n",
    "data3 = pd.read_csv(data3)\n",
    "data4 = pd.read_csv(data4)\n",
    "data5 = pd.read_csv(data5)"
   ]
  },
  {
   "cell_type": "code",
   "execution_count": 3,
   "metadata": {},
   "outputs": [],
   "source": [
    "#put the frames of the different seasons into a list\n",
    "frames = [data1, data2, data3, data4, data5]\n",
    "\n",
    "#stack the frames into a single set for analysis\n",
    "df = pd.concat(frames)"
   ]
  },
  {
   "cell_type": "code",
   "execution_count": 12,
   "metadata": {},
   "outputs": [
    {
     "data": {
      "text/html": [
       "<div>\n",
       "<style scoped>\n",
       "    .dataframe tbody tr th:only-of-type {\n",
       "        vertical-align: middle;\n",
       "    }\n",
       "\n",
       "    .dataframe tbody tr th {\n",
       "        vertical-align: top;\n",
       "    }\n",
       "\n",
       "    .dataframe thead th {\n",
       "        text-align: right;\n",
       "    }\n",
       "</style>\n",
       "<table border=\"1\" class=\"dataframe\">\n",
       "  <thead>\n",
       "    <tr style=\"text-align: right;\">\n",
       "      <th></th>\n",
       "      <th>index</th>\n",
       "      <th>Date</th>\n",
       "      <th>Rot</th>\n",
       "      <th>VH</th>\n",
       "      <th>Team</th>\n",
       "      <th>1st</th>\n",
       "      <th>2nd</th>\n",
       "      <th>3rd</th>\n",
       "      <th>Final</th>\n",
       "      <th>Open</th>\n",
       "      <th>Close</th>\n",
       "      <th>Puck Line</th>\n",
       "      <th>Unnamed: 11</th>\n",
       "      <th>Open OU</th>\n",
       "      <th>Unnamed: 13</th>\n",
       "      <th>Close OU</th>\n",
       "      <th>Unnamed: 15</th>\n",
       "      <th>Point Dif</th>\n",
       "    </tr>\n",
       "  </thead>\n",
       "  <tbody>\n",
       "    <tr>\n",
       "      <th>0</th>\n",
       "      <td>1</td>\n",
       "      <td>1008</td>\n",
       "      <td>2</td>\n",
       "      <td>H</td>\n",
       "      <td>Toronto</td>\n",
       "      <td>2</td>\n",
       "      <td>0</td>\n",
       "      <td>1</td>\n",
       "      <td>3</td>\n",
       "      <td>-115</td>\n",
       "      <td>-115</td>\n",
       "      <td>-1.5</td>\n",
       "      <td>250.0</td>\n",
       "      <td>5.5</td>\n",
       "      <td>-126</td>\n",
       "      <td>5.5</td>\n",
       "      <td>-130</td>\n",
       "      <td>-1</td>\n",
       "    </tr>\n",
       "    <tr>\n",
       "      <th>1</th>\n",
       "      <td>3</td>\n",
       "      <td>1008</td>\n",
       "      <td>4</td>\n",
       "      <td>H</td>\n",
       "      <td>Boston</td>\n",
       "      <td>1</td>\n",
       "      <td>0</td>\n",
       "      <td>1</td>\n",
       "      <td>2</td>\n",
       "      <td>-195</td>\n",
       "      <td>-185</td>\n",
       "      <td>-1.5</td>\n",
       "      <td>155.0</td>\n",
       "      <td>5.5</td>\n",
       "      <td>-143</td>\n",
       "      <td>5.5</td>\n",
       "      <td>-135</td>\n",
       "      <td>1</td>\n",
       "    </tr>\n",
       "    <tr>\n",
       "      <th>2</th>\n",
       "      <td>5</td>\n",
       "      <td>1008</td>\n",
       "      <td>6</td>\n",
       "      <td>H</td>\n",
       "      <td>LosAngeles</td>\n",
       "      <td>0</td>\n",
       "      <td>0</td>\n",
       "      <td>0</td>\n",
       "      <td>0</td>\n",
       "      <td>-121</td>\n",
       "      <td>-150</td>\n",
       "      <td>-1.5</td>\n",
       "      <td>200.0</td>\n",
       "      <td>5.5</td>\n",
       "      <td>-147</td>\n",
       "      <td>5.0</td>\n",
       "      <td>116</td>\n",
       "      <td>-4</td>\n",
       "    </tr>\n",
       "    <tr>\n",
       "      <th>3</th>\n",
       "      <td>7</td>\n",
       "      <td>1008</td>\n",
       "      <td>8</td>\n",
       "      <td>H</td>\n",
       "      <td>Calgary</td>\n",
       "      <td>0</td>\n",
       "      <td>2</td>\n",
       "      <td>0</td>\n",
       "      <td>2</td>\n",
       "      <td>111</td>\n",
       "      <td>106</td>\n",
       "      <td>1.5</td>\n",
       "      <td>-275.0</td>\n",
       "      <td>5.5</td>\n",
       "      <td>-143</td>\n",
       "      <td>5.0</td>\n",
       "      <td>120</td>\n",
       "      <td>-2</td>\n",
       "    </tr>\n",
       "    <tr>\n",
       "      <th>4</th>\n",
       "      <td>9</td>\n",
       "      <td>1009</td>\n",
       "      <td>52</td>\n",
       "      <td>H</td>\n",
       "      <td>Washington</td>\n",
       "      <td>1</td>\n",
       "      <td>0</td>\n",
       "      <td>0</td>\n",
       "      <td>1</td>\n",
       "      <td>-135</td>\n",
       "      <td>-145</td>\n",
       "      <td>-1.5</td>\n",
       "      <td>205.0</td>\n",
       "      <td>5.5</td>\n",
       "      <td>-115</td>\n",
       "      <td>5.5</td>\n",
       "      <td>-135</td>\n",
       "      <td>-1</td>\n",
       "    </tr>\n",
       "  </tbody>\n",
       "</table>\n",
       "</div>"
      ],
      "text/plain": [
       "   index  Date  Rot VH        Team  1st  2nd  3rd  Final  Open  Close  \\\n",
       "0      1  1008    2  H     Toronto    2    0    1      3  -115   -115   \n",
       "1      3  1008    4  H      Boston    1    0    1      2  -195   -185   \n",
       "2      5  1008    6  H  LosAngeles    0    0    0      0  -121   -150   \n",
       "3      7  1008    8  H     Calgary    0    2    0      2   111    106   \n",
       "4      9  1009   52  H  Washington    1    0    0      1  -135   -145   \n",
       "\n",
       "   Puck Line  Unnamed: 11  Open OU  Unnamed: 13  Close OU  Unnamed: 15  \\\n",
       "0       -1.5        250.0      5.5         -126       5.5         -130   \n",
       "1       -1.5        155.0      5.5         -143       5.5         -135   \n",
       "2       -1.5        200.0      5.5         -147       5.0          116   \n",
       "3        1.5       -275.0      5.5         -143       5.0          120   \n",
       "4       -1.5        205.0      5.5         -115       5.5         -135   \n",
       "\n",
       "   Point Dif  \n",
       "0         -1  \n",
       "1          1  \n",
       "2         -4  \n",
       "3         -2  \n",
       "4         -1  "
      ]
     },
     "execution_count": 12,
     "metadata": {},
     "output_type": "execute_result"
    }
   ],
   "source": [
    "cond1 = df[\"VH\"] == \"V\"\n",
    "cond2 = df[\"VH\"] == \"H\"\n",
    "away = df[cond1].reset_index()\n",
    "home = df[cond2].reset_index()\n",
    "home.head()"
   ]
  },
  {
   "cell_type": "code",
   "execution_count": 13,
   "metadata": {},
   "outputs": [
    {
     "data": {
      "text/plain": [
       "6670"
      ]
     },
     "execution_count": 13,
     "metadata": {},
     "output_type": "execute_result"
    }
   ],
   "source": [
    "home[\"index\"].shape[0]"
   ]
  },
  {
   "cell_type": "code",
   "execution_count": 23,
   "metadata": {},
   "outputs": [],
   "source": [
    "p_dif = []\n",
    "\n",
    "for i in range(1, df.shape[0], 2):\n",
    "        home_dif = df['Final'].iloc[i] - df['Final'].iloc[i-1]\n",
    "        away_dif = df['Final'].iloc[i-1] - df['Final'].iloc[i]\n",
    "        p_dif.append(away_dif)\n",
    "        p_dif.append(home_dif)\n",
    "\n",
    "        \n",
    "df['Point Dif'] = p_dif\n",
    "df.reset_index()\n",
    "\n",
    "def set_winner(row):\n",
    "    if row['Point Dif'] > 0:\n",
    "        return 'Won'\n",
    "    else:\n",
    "        return 'Loss'\n",
    "        \n",
    "new_df = home.assign(Result=home.apply(set_winner, axis=1)) \n",
    "new_df['Result'].value_counts()\n",
    "win_loss = ['Won','Loss']"
   ]
  },
  {
   "cell_type": "code",
   "execution_count": 24,
   "metadata": {},
   "outputs": [
    {
     "data": {
      "image/png": "[encoded data removed]",
      "text/plain": [
       "<Figure size 432x288 with 1 Axes>"
      ]
     },
     "metadata": {},
     "output_type": "display_data"
    }
   ],
   "source": [
    "plt.bar(win_loss,new_df['Result'].value_counts())\n",
    "plt.title(\"Home Team Wins vs Losses\")\n",
    "plt.ylabel(\"Number of Games\")\n",
    "plt.ylim(0, 4000)\n",
    "plt.show()"
   ]
  }
 ],
 "metadata": {
  "kernelspec": {
   "display_name": "Python 3",
   "language": "python",
   "name": "python3"
  },
  "language_info": {
   "codemirror_mode": {
    "name": "ipython",
    "version": 3
   },
   "file_extension": ".py",
   "mimetype": "text/x-python",
   "name": "python",
   "nbconvert_exporter": "python",
   "pygments_lexer": "ipython3",
   "version": "3.6.5"
  }
 },
 "nbformat": 4,
 "nbformat_minor": 2
}
