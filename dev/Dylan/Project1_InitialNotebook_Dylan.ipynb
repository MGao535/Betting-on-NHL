{
 "cells": [
  {
   "cell_type": "markdown",
   "metadata": {},
   "source": [
    "Notebook to combine and bin data for the NHL from 2014-2019"
   ]
  },
  {
   "cell_type": "code",
   "execution_count": 1,
   "metadata": {},
   "outputs": [],
   "source": [
    "# Dependencies and Setup\n",
    "import matplotlib.pyplot as plt\n",
    "import pandas as pd\n",
    "import scipy.stats as st\n",
    "\n",
    "# Study data files\n",
    "data1 = \"nhl odds 2014-15.csv\"\n",
    "data2 = \"nhl odds 2015-16.csv\"\n",
    "data3 = \"nhl odds 2016-17.csv\"\n",
    "data4 = \"nhl odds 2017-18.csv\"\n",
    "data5 = \"nhl odds 2018-19.csv\"\n",
    "\n",
    "# Read the mouse data and the study results\n",
    "data1 = pd.read_csv(data1)\n",
    "data2 = pd.read_csv(data2)\n",
    "data3 = pd.read_csv(data3)\n",
    "data4 = pd.read_csv(data4)\n",
    "data5 = pd.read_csv(data5)"
   ]
  },
  {
   "cell_type": "code",
   "execution_count": 3,
   "metadata": {},
   "outputs": [],
   "source": [
    "#put the frames of the different seasons into a list\n",
    "frames = [data1, data2, data3, data4, data5]\n",
    "\n",
    "#stack the frames into a single set for analysis\n",
    "df = pd.concat(frames)"
   ]
  },
  {
   "cell_type": "code",
   "execution_count": null,
   "metadata": {},
   "outputs": [],
   "source": []
  }
 ],
 "metadata": {
  "kernelspec": {
   "display_name": "Python 3",
   "language": "python",
   "name": "python3"
  },
  "language_info": {
   "codemirror_mode": {
    "name": "ipython",
    "version": 3
   },
   "file_extension": ".py",
   "mimetype": "text/x-python",
   "name": "python",
   "nbconvert_exporter": "python",
   "pygments_lexer": "ipython3",
   "version": "3.7.4"
  }
 },
 "nbformat": 4,
 "nbformat_minor": 2
}
